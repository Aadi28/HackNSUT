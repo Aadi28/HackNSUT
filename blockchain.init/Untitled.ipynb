{
 "cells": [
  {
   "cell_type": "code",
   "execution_count": 1,
   "metadata": {},
   "outputs": [],
   "source": [
    "from firebase import firebase"
   ]
  },
  {
   "cell_type": "code",
   "execution_count": 2,
   "metadata": {},
   "outputs": [],
   "source": [
    "firebase = firebase.FirebaseApplication('https://iomfirebaseproject.firebaseio.com/')"
   ]
  },
  {
   "cell_type": "code",
   "execution_count": 3,
   "metadata": {
    "scrolled": true
   },
   "outputs": [],
   "source": [
    "result = firebase.get('OrganisationDB',None)"
   ]
  },
  {
   "cell_type": "code",
   "execution_count": 4,
   "metadata": {},
   "outputs": [
    {
     "name": "stdout",
     "output_type": "stream",
     "text": [
      "{u'25252525': {u'Name': u'Naman'}, u'87654321': {u'Name': u'kriti'}, u'89564752': {u'Name': u'bcd inc'}, u'45856975': {u'Name': u'Agarwal Co'}, u'78945620': {u'Name': u'rcks n rcks'}, u'56498720': {u'Name': u'Banchi'}, u'23456789': {u'Name': u'Rcks n sons'}, u'87452100': {u'Name': u'aadi rcks'}, u'90212589': {u'Name': u'targaeryn'}, u'78457845': {u'Name': u'kkk'}, u'56489720': {u'Name': u'tota inc'}, u'12345678': {u'Name': u'Abc inc'}, u'36521480': {u'Name': u'bobby'}, u'75203698': {u'Name': u'Munnu pvt ltd'}, u'58587469': {u'Name': u'bobby'}, u'98765432': {u'Name': u'Chopdu sons'}, u'85256598': {u'Name': u'chunnu pvt ltd'}, u'25654585': {u'Name': u'abc inc'}}\n"
     ]
    }
   ],
   "source": [
    "print result"
   ]
  },
  {
   "cell_type": "code",
   "execution_count": 6,
   "metadata": {},
   "outputs": [
    {
     "name": "stdout",
     "output_type": "stream",
     "text": [
      "3fef7ff0fc1660c6bd319b3a8109fcb9f81985eabcbbf8958869ef03d605a9eb\n"
     ]
    }
   ],
   "source": [
    "import hashlib\n",
    "\n",
    "def encrypt_string(hash_string):\n",
    "    sha_signature = \\\n",
    "        hashlib.sha256(hash_string.encode()).hexdigest()\n",
    "    return sha_signature\n",
    "\n",
    "hash_string = 'confidential data'\n",
    "\n",
    "sha_signature = encrypt_string(hash_string)\n",
    "\n",
    "print(sha_signature)"
   ]
  },
  {
   "cell_type": "code",
   "execution_count": 22,
   "metadata": {},
   "outputs": [
    {
     "ename": "SyntaxError",
     "evalue": "invalid syntax (<ipython-input-22-9a434a949702>, line 1)",
     "output_type": "error",
     "traceback": [
      "\u001b[0;36m  File \u001b[0;32m\"<ipython-input-22-9a434a949702>\"\u001b[0;36m, line \u001b[0;32m1\u001b[0m\n\u001b[0;31m    result = firebase.get() ?\u001b[0m\n\u001b[0m                            ^\u001b[0m\n\u001b[0;31mSyntaxError\u001b[0m\u001b[0;31m:\u001b[0m invalid syntax\n"
     ]
    }
   ],
   "source": [
    "result = firebase.get() "
   ]
  },
  {
   "cell_type": "code",
   "execution_count": 54,
   "metadata": {},
   "outputs": [
    {
     "name": "stdout",
     "output_type": "stream",
     "text": [
      "{u'89564752': {u'Name': u'bcd inc'}, u'45856975': {u'Name': u'Agarwal Co'}, u'56489720': {u'Name': u'tota inc'}, u'75203698': {u'Name': u'Munnu pvt ltd'}, u'85256598': {u'Name': u'chunnu pvt ltd'}, u'25654585': {u'Name': u'abc inc'}}\n"
     ]
    }
   ],
   "source": [
    "print result1"
   ]
  },
  {
   "cell_type": "code",
   "execution_count": 47,
   "metadata": {},
   "outputs": [],
   "source": [
    "C = {k:v for k,v in result1.items() if k not in result}"
   ]
  },
  {
   "cell_type": "code",
   "execution_count": 49,
   "metadata": {},
   "outputs": [
    {
     "data": {
      "text/plain": [
       "{u'45856975': {u'Name': u'Agarwal Co'}}"
      ]
     },
     "execution_count": 49,
     "metadata": {},
     "output_type": "execute_result"
    }
   ],
   "source": [
    "C"
   ]
  },
  {
   "cell_type": "code",
   "execution_count": null,
   "metadata": {},
   "outputs": [],
   "source": []
  }
 ],
 "metadata": {
  "kernelspec": {
   "display_name": "Python 2",
   "language": "python",
   "name": "python2"
  },
  "language_info": {
   "codemirror_mode": {
    "name": "ipython",
    "version": 2
   },
   "file_extension": ".py",
   "mimetype": "text/x-python",
   "name": "python",
   "nbconvert_exporter": "python",
   "pygments_lexer": "ipython2",
   "version": "2.7.15"
  }
 },
 "nbformat": 4,
 "nbformat_minor": 2
}
